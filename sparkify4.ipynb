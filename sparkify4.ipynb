{
 "cells": [
  {
   "cell_type": "code",
   "execution_count": null,
   "id": "3bde11ca",
   "metadata": {},
   "outputs": [],
   "source": [
    "#ln[1] \n",
    "from ipyparallel import Client \n",
    "rc = Client() \n",
    "print('Number of clusters running =', len(rc)) \n",
    "print('Client ids are:', rc.ids) \n",
    "dview = rc[:] "
   ]
  },
  {
   "cell_type": "code",
   "execution_count": null,
   "id": "476dc9ea",
   "metadata": {},
   "outputs": [],
   "source": [
    "import boto3\n",
    "\n",
    "s3 = boto3.resource(\"s3\") \n",
    "my_bucket = s3.Bucket(\"giribucketforspark3logs\") \n",
    "all_keys = [] \n",
    "for bucket_obj in my_bucket.objects.all(): \n",
    "    all_keys.append(bucket_obj.key) \n",
    "print('Total number of json objects =', len(all_keys)) "
   ]
  },
  {
   "cell_type": "code",
   "execution_count": null,
   "id": "773e3161",
   "metadata": {},
   "outputs": [],
   "source": [
    "%%px\n",
    "def test1(keys):\n",
    "    import json\n",
    "    import boto3\n",
    "    from collections import Counter\n",
    "    \n",
    "    bucket = 'giribucketforspark3logs'\n",
    "    artistCounter = {}\n",
    "    songCounter = {}\n",
    "    \n",
    "    s3 = boto3.client('s3')\n",
    "    \n",
    "    for key in keys:\n",
    "        obj = s3.get_object(Bucket=bucket, Key=str(key))\n",
    "        obj = json.loads(obj['Body'].read())\n",
    "        \n",
    "        try:\n",
    "            # Avoid keeping count for 'None' artist\n",
    "            if obj['artist']:\n",
    "                artistCounter[str(obj['artist'])] += 1\n",
    "        except:\n",
    "            artistCounter[str(obj['artist'])] = 1\n",
    "        \n",
    "        try:\n",
    "            # Avoid keeping count for 'None' song\n",
    "            if obj['song']:\n",
    "                songCounter[str(obj['song'])] += 1\n",
    "        except:\n",
    "            songCounter[str(obj['song'])] = 1\n",
    "            \n",
    "    return Counter(artistCounter), Counter(songCounter)"
   ]
  },
  {
   "cell_type": "code",
   "execution_count": null,
   "id": "91b35a35",
   "metadata": {},
   "outputs": [],
   "source": [
    "import time\n",
    "start = time.perf_counter() \n",
    "dview.scatter('keys',all_keys) \n",
    "#%px print(keys[:5]) \n",
    "%px y = [test1(keys)] \n",
    "y = dview.gather('y') \n",
    "print('Time taken to get all results = {:.4f}s'.format(time.perf_counter() - start))"
   ]
  },
  {
   "cell_type": "code",
   "execution_count": null,
   "id": "4d8a5dda",
   "metadata": {},
   "outputs": [],
   "source": [
    " \n",
    "from collections import Counter\n",
    "import pandas as pd \n",
    "artistCounter = Counter({}) \n",
    "songCounter = Counter({}) \n",
    "for (artists, songs) in y: \n",
    "    artistCounter += artists \n",
    "    songCounter += songs \n",
    "artistCounter = pd.DataFrame(artistCounter.most_common(10),columns=['Artist Name', 'Count'], index=range(1, 11)) \n",
    "\n",
    "songCounter = pd.DataFrame(songCounter.most_common(10),columns=['Song Name', 'Count'], index=range(1, 11))  \n"
   ]
  },
  {
   "cell_type": "code",
   "execution_count": null,
   "id": "5a5e079e",
   "metadata": {},
   "outputs": [],
   "source": [
    "#ln[6] \n",
    "pd.set_option('display.max_colwidth', None) \n",
    "print('Top 10 Artists are:') \n",
    "display(artistCounter) \n",
    "print('\\n\\nTop 10 Songs are:') \n",
    "display(songCounter) "
   ]
  }
 ],
 "metadata": {
  "kernelspec": {
   "display_name": "Python 3 (ipykernel)",
   "language": "python",
   "name": "python3"
  },
  "language_info": {
   "codemirror_mode": {
    "name": "ipython",
    "version": 3
   },
   "file_extension": ".py",
   "mimetype": "text/x-python",
   "name": "python",
   "nbconvert_exporter": "python",
   "pygments_lexer": "ipython3",
   "version": "3.11.5"
  }
 },
 "nbformat": 4,
 "nbformat_minor": 5
}
