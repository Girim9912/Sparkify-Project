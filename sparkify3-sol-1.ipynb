{
 "cells": [
  {
   "cell_type": "markdown",
   "metadata": {},
   "source": [
    "In this project, you will be developing a Python script using boto3 to create buckets on S3, and to store the event logs of Sparkify as JSON objects. In much the same way that you inserted documents (i.e., log data from Sparkify) into MongoDB, you will instead be putting records into the S3 bucket as JSON objects."
   ]
  },
  {
   "cell_type": "code",
   "execution_count": 1,
   "metadata": {},
   "outputs": [],
   "source": [
    "import logging\n",
    "import boto3\n",
    "from botocore.exceptions import ClientError\n",
    "import pickle\n",
    "import json\n",
    "import os\n",
    "from datetime import datetime"
   ]
  },
  {
   "cell_type": "code",
   "execution_count": 2,
   "metadata": {},
   "outputs": [],
   "source": [
    "# Check buckets\n",
    "s3 = boto3.client('s3')\n",
    "buckets = s3.list_buckets()\n",
    "for bucket in buckets['Buckets']:\n",
    "    print(bucket['CreationDate'].ctime(), bucket['Name'])"
   ]
  },
  {
   "cell_type": "code",
   "execution_count": 3,
   "metadata": {},
   "outputs": [],
   "source": [
    "# CODE FROM BOTO3 DOCUMENTATION\n",
    "# (https://boto3.amazonaws.com/v1/documentation/api/latest/guide/s3-example-creating-buckets.html)\n",
    "\n",
    "def create_bucket(bucket_name, region=None):\n",
    "    \"\"\"Create an S3 bucket in a specified region\n",
    "\n",
    "    If a region is not specified, the bucket is created in the S3 default\n",
    "    region (us-east-1).\n",
    "\n",
    "    :param bucket_name: Bucket to create\n",
    "    :param region: String region to create bucket in, e.g., 'us-west-2'\n",
    "    :return: True if bucket created, else False\n",
    "    \"\"\"\n",
    "\n",
    "    # Create bucket\n",
    "    try:\n",
    "        if region is None:\n",
    "            s3_client = boto3.client('s3')\n",
    "            s3_client.create_bucket(Bucket=bucket_name)\n",
    "        else:\n",
    "            s3_client = boto3.client('s3', region_name=region)\n",
    "            location = {'LocationConstraint': region}\n",
    "            s3_client.create_bucket(Bucket=bucket_name,\n",
    "                                    CreateBucketConfiguration=location)\n",
    "    except ClientError as e:\n",
    "        logging.error(e)\n",
    "        return False\n",
    "    return True"
   ]
  },
  {
   "cell_type": "code",
   "execution_count": 4,
   "metadata": {},
   "outputs": [],
   "source": [
    "# Specify file path for log data\n",
    "log_path = r'C:\\Users\\aambr\\OneDrive\\Documents\\UNH Fall 2019\\Distributed_Scalable\\Module 7\\7_1-MessageBrokers\\log_data'"
   ]
  },
  {
   "cell_type": "code",
   "execution_count": 52,
   "metadata": {},
   "outputs": [],
   "source": [
    "# Function to loop through directories to get json files and add to database\n",
    "def extract_log(filepath,bucket):\n",
    "    \n",
    "    # Connect to s3 bucket\n",
    "    s3 = boto3.client('s3')\n",
    "\n",
    "    with os.scandir(filepath) as entries:\n",
    "        for entry in entries:\n",
    "\n",
    "        # If the item in the folder is a directory, recursively apply the function\n",
    "            if entry.is_dir():\n",
    "                print('Dir',entry.name)\n",
    "                extract_log(entry,bucket)\n",
    "\n",
    "        # If the item in the folder is a file, extract json and insert into db\n",
    "            elif entry.is_file():                           \n",
    "                print('Filename:\\n',entry.name)\n",
    "                print('Filepath:\\n',entry.path)\n",
    "                with open(entry.path) as f:\n",
    "                    data = [json.loads(line) for line in f] \n",
    "            # Add date and week number to document using filename\n",
    "                    for x in data:                                                                               \n",
    "                        date = datetime.strptime(entry.name[:10], \"%Y-%m-%d\")\n",
    "                        x['week_num'] = int(datetime.date(date).strftime(\"%W\"))\n",
    "                    # Key will be name of the original json file\n",
    "                    key = entry.name\n",
    "                    # Convert back to json object\n",
    "                    data = json.dumps(data)\n",
    "                    # Upload to s3 bucket\n",
    "                    s3.put_object(Bucket=bucket,Key=key,Body=data)\n",
    "            else:            \n",
    "                print('Error')"
   ]
  },
  {
   "cell_type": "code",
   "execution_count": 53,
   "metadata": {},
   "outputs": [],
   "source": [
    "new_bucket = 'sparkify3bucket'"
   ]
  },
  {
   "cell_type": "code",
   "execution_count": 54,
   "metadata": {},
   "outputs": [],
   "source": [
    "# create_bucket(new_bucket)"
   ]
  },
  {
   "cell_type": "code",
   "execution_count": 2,
   "metadata": {},
   "outputs": [
    {
     "name": "stdout",
     "output_type": "stream",
     "text": [
      "Thu Apr  9 16:23:31 2020 sparkify3bucket\n"
     ]
    }
   ],
   "source": [
    "# Check buckets\n",
    "s3 = boto3.client('s3')\n",
    "buckets = s3.list_buckets()\n",
    "for bucket in buckets['Buckets']:\n",
    "    print(bucket['CreationDate'].ctime(), bucket['Name'])"
   ]
  },
  {
   "cell_type": "code",
   "execution_count": 56,
   "metadata": {
    "scrolled": true
   },
   "outputs": [
    {
     "name": "stdout",
     "output_type": "stream",
     "text": [
      "Dir 2018\n",
      "Dir 11\n",
      "Filename:\n",
      " 2018-11-01-events.json\n",
      "Filepath:\n",
      " C:\\Users\\aambr\\OneDrive\\Documents\\UNH Fall 2019\\Distributed_Scalable\\Module 7\\7_1-MessageBrokers\\log_data\\2018\\11\\2018-11-01-events.json\n",
      "Filename:\n",
      " 2018-11-02-events.json\n",
      "Filepath:\n",
      " C:\\Users\\aambr\\OneDrive\\Documents\\UNH Fall 2019\\Distributed_Scalable\\Module 7\\7_1-MessageBrokers\\log_data\\2018\\11\\2018-11-02-events.json\n",
      "Filename:\n",
      " 2018-11-03-events.json\n",
      "Filepath:\n",
      " C:\\Users\\aambr\\OneDrive\\Documents\\UNH Fall 2019\\Distributed_Scalable\\Module 7\\7_1-MessageBrokers\\log_data\\2018\\11\\2018-11-03-events.json\n",
      "Filename:\n",
      " 2018-11-04-events.json\n",
      "Filepath:\n",
      " C:\\Users\\aambr\\OneDrive\\Documents\\UNH Fall 2019\\Distributed_Scalable\\Module 7\\7_1-MessageBrokers\\log_data\\2018\\11\\2018-11-04-events.json\n",
      "Filename:\n",
      " 2018-11-05-events.json\n",
      "Filepath:\n",
      " C:\\Users\\aambr\\OneDrive\\Documents\\UNH Fall 2019\\Distributed_Scalable\\Module 7\\7_1-MessageBrokers\\log_data\\2018\\11\\2018-11-05-events.json\n",
      "Filename:\n",
      " 2018-11-06-events.json\n",
      "Filepath:\n",
      " C:\\Users\\aambr\\OneDrive\\Documents\\UNH Fall 2019\\Distributed_Scalable\\Module 7\\7_1-MessageBrokers\\log_data\\2018\\11\\2018-11-06-events.json\n",
      "Filename:\n",
      " 2018-11-07-events.json\n",
      "Filepath:\n",
      " C:\\Users\\aambr\\OneDrive\\Documents\\UNH Fall 2019\\Distributed_Scalable\\Module 7\\7_1-MessageBrokers\\log_data\\2018\\11\\2018-11-07-events.json\n",
      "Filename:\n",
      " 2018-11-08-events.json\n",
      "Filepath:\n",
      " C:\\Users\\aambr\\OneDrive\\Documents\\UNH Fall 2019\\Distributed_Scalable\\Module 7\\7_1-MessageBrokers\\log_data\\2018\\11\\2018-11-08-events.json\n",
      "Filename:\n",
      " 2018-11-09-events.json\n",
      "Filepath:\n",
      " C:\\Users\\aambr\\OneDrive\\Documents\\UNH Fall 2019\\Distributed_Scalable\\Module 7\\7_1-MessageBrokers\\log_data\\2018\\11\\2018-11-09-events.json\n",
      "Filename:\n",
      " 2018-11-10-events.json\n",
      "Filepath:\n",
      " C:\\Users\\aambr\\OneDrive\\Documents\\UNH Fall 2019\\Distributed_Scalable\\Module 7\\7_1-MessageBrokers\\log_data\\2018\\11\\2018-11-10-events.json\n",
      "Filename:\n",
      " 2018-11-11-events.json\n",
      "Filepath:\n",
      " C:\\Users\\aambr\\OneDrive\\Documents\\UNH Fall 2019\\Distributed_Scalable\\Module 7\\7_1-MessageBrokers\\log_data\\2018\\11\\2018-11-11-events.json\n",
      "Filename:\n",
      " 2018-11-12-events.json\n",
      "Filepath:\n",
      " C:\\Users\\aambr\\OneDrive\\Documents\\UNH Fall 2019\\Distributed_Scalable\\Module 7\\7_1-MessageBrokers\\log_data\\2018\\11\\2018-11-12-events.json\n",
      "Filename:\n",
      " 2018-11-13-events.json\n",
      "Filepath:\n",
      " C:\\Users\\aambr\\OneDrive\\Documents\\UNH Fall 2019\\Distributed_Scalable\\Module 7\\7_1-MessageBrokers\\log_data\\2018\\11\\2018-11-13-events.json\n",
      "Filename:\n",
      " 2018-11-14-events.json\n",
      "Filepath:\n",
      " C:\\Users\\aambr\\OneDrive\\Documents\\UNH Fall 2019\\Distributed_Scalable\\Module 7\\7_1-MessageBrokers\\log_data\\2018\\11\\2018-11-14-events.json\n",
      "Filename:\n",
      " 2018-11-15-events.json\n",
      "Filepath:\n",
      " C:\\Users\\aambr\\OneDrive\\Documents\\UNH Fall 2019\\Distributed_Scalable\\Module 7\\7_1-MessageBrokers\\log_data\\2018\\11\\2018-11-15-events.json\n",
      "Filename:\n",
      " 2018-11-16-events.json\n",
      "Filepath:\n",
      " C:\\Users\\aambr\\OneDrive\\Documents\\UNH Fall 2019\\Distributed_Scalable\\Module 7\\7_1-MessageBrokers\\log_data\\2018\\11\\2018-11-16-events.json\n",
      "Filename:\n",
      " 2018-11-17-events.json\n",
      "Filepath:\n",
      " C:\\Users\\aambr\\OneDrive\\Documents\\UNH Fall 2019\\Distributed_Scalable\\Module 7\\7_1-MessageBrokers\\log_data\\2018\\11\\2018-11-17-events.json\n",
      "Filename:\n",
      " 2018-11-18-events.json\n",
      "Filepath:\n",
      " C:\\Users\\aambr\\OneDrive\\Documents\\UNH Fall 2019\\Distributed_Scalable\\Module 7\\7_1-MessageBrokers\\log_data\\2018\\11\\2018-11-18-events.json\n",
      "Filename:\n",
      " 2018-11-19-events.json\n",
      "Filepath:\n",
      " C:\\Users\\aambr\\OneDrive\\Documents\\UNH Fall 2019\\Distributed_Scalable\\Module 7\\7_1-MessageBrokers\\log_data\\2018\\11\\2018-11-19-events.json\n",
      "Filename:\n",
      " 2018-11-20-events.json\n",
      "Filepath:\n",
      " C:\\Users\\aambr\\OneDrive\\Documents\\UNH Fall 2019\\Distributed_Scalable\\Module 7\\7_1-MessageBrokers\\log_data\\2018\\11\\2018-11-20-events.json\n",
      "Filename:\n",
      " 2018-11-21-events.json\n",
      "Filepath:\n",
      " C:\\Users\\aambr\\OneDrive\\Documents\\UNH Fall 2019\\Distributed_Scalable\\Module 7\\7_1-MessageBrokers\\log_data\\2018\\11\\2018-11-21-events.json\n",
      "Filename:\n",
      " 2018-11-22-events.json\n",
      "Filepath:\n",
      " C:\\Users\\aambr\\OneDrive\\Documents\\UNH Fall 2019\\Distributed_Scalable\\Module 7\\7_1-MessageBrokers\\log_data\\2018\\11\\2018-11-22-events.json\n",
      "Filename:\n",
      " 2018-11-23-events.json\n",
      "Filepath:\n",
      " C:\\Users\\aambr\\OneDrive\\Documents\\UNH Fall 2019\\Distributed_Scalable\\Module 7\\7_1-MessageBrokers\\log_data\\2018\\11\\2018-11-23-events.json\n",
      "Filename:\n",
      " 2018-11-24-events.json\n",
      "Filepath:\n",
      " C:\\Users\\aambr\\OneDrive\\Documents\\UNH Fall 2019\\Distributed_Scalable\\Module 7\\7_1-MessageBrokers\\log_data\\2018\\11\\2018-11-24-events.json\n",
      "Filename:\n",
      " 2018-11-25-events.json\n",
      "Filepath:\n",
      " C:\\Users\\aambr\\OneDrive\\Documents\\UNH Fall 2019\\Distributed_Scalable\\Module 7\\7_1-MessageBrokers\\log_data\\2018\\11\\2018-11-25-events.json\n",
      "Filename:\n",
      " 2018-11-26-events.json\n",
      "Filepath:\n",
      " C:\\Users\\aambr\\OneDrive\\Documents\\UNH Fall 2019\\Distributed_Scalable\\Module 7\\7_1-MessageBrokers\\log_data\\2018\\11\\2018-11-26-events.json\n",
      "Filename:\n",
      " 2018-11-27-events.json\n",
      "Filepath:\n",
      " C:\\Users\\aambr\\OneDrive\\Documents\\UNH Fall 2019\\Distributed_Scalable\\Module 7\\7_1-MessageBrokers\\log_data\\2018\\11\\2018-11-27-events.json\n",
      "Filename:\n",
      " 2018-11-28-events.json\n",
      "Filepath:\n",
      " C:\\Users\\aambr\\OneDrive\\Documents\\UNH Fall 2019\\Distributed_Scalable\\Module 7\\7_1-MessageBrokers\\log_data\\2018\\11\\2018-11-28-events.json\n",
      "Filename:\n",
      " 2018-11-29-events.json\n",
      "Filepath:\n",
      " C:\\Users\\aambr\\OneDrive\\Documents\\UNH Fall 2019\\Distributed_Scalable\\Module 7\\7_1-MessageBrokers\\log_data\\2018\\11\\2018-11-29-events.json\n",
      "Filename:\n",
      " 2018-11-30-events.json\n",
      "Filepath:\n",
      " C:\\Users\\aambr\\OneDrive\\Documents\\UNH Fall 2019\\Distributed_Scalable\\Module 7\\7_1-MessageBrokers\\log_data\\2018\\11\\2018-11-30-events.json\n"
     ]
    }
   ],
   "source": [
    "extract_log(log_path,new_bucket)"
   ]
  },
  {
   "cell_type": "code",
   "execution_count": 3,
   "metadata": {},
   "outputs": [],
   "source": [
    "# Retrieve keys from bucket\n",
    "def list_bucket_contents(bucket):\n",
    "    keys = []\n",
    "    bucket_objs = s3.list_objects_v2(Bucket=bucket)\n",
    "\n",
    "    for obj in bucket_objs['Contents']:\n",
    "        keys.append(obj['Key'])\n",
    "        \n",
    "    return keys"
   ]
  },
  {
   "cell_type": "code",
   "execution_count": 5,
   "metadata": {},
   "outputs": [
    {
     "data": {
      "text/plain": [
       "['2018-11-01-events.json',\n",
       " '2018-11-02-events.json',\n",
       " '2018-11-03-events.json',\n",
       " '2018-11-04-events.json',\n",
       " '2018-11-05-events.json',\n",
       " '2018-11-06-events.json',\n",
       " '2018-11-07-events.json',\n",
       " '2018-11-08-events.json',\n",
       " '2018-11-09-events.json',\n",
       " '2018-11-10-events.json',\n",
       " '2018-11-11-events.json',\n",
       " '2018-11-12-events.json',\n",
       " '2018-11-13-events.json',\n",
       " '2018-11-14-events.json',\n",
       " '2018-11-15-events.json',\n",
       " '2018-11-16-events.json',\n",
       " '2018-11-17-events.json',\n",
       " '2018-11-18-events.json',\n",
       " '2018-11-19-events.json',\n",
       " '2018-11-20-events.json',\n",
       " '2018-11-21-events.json',\n",
       " '2018-11-22-events.json',\n",
       " '2018-11-23-events.json',\n",
       " '2018-11-24-events.json',\n",
       " '2018-11-25-events.json',\n",
       " '2018-11-26-events.json',\n",
       " '2018-11-27-events.json',\n",
       " '2018-11-28-events.json',\n",
       " '2018-11-29-events.json',\n",
       " '2018-11-30-events.json']"
      ]
     },
     "execution_count": 5,
     "metadata": {},
     "output_type": "execute_result"
    }
   ],
   "source": [
    "list_bucket_contents('sparkify3bucket')"
   ]
  },
  {
   "cell_type": "code",
   "execution_count": null,
   "metadata": {},
   "outputs": [],
   "source": []
  }
 ],
 "metadata": {
  "kernelspec": {
   "display_name": "Python 3",
   "language": "python",
   "name": "python3"
  },
  "language_info": {
   "codemirror_mode": {
    "name": "ipython",
    "version": 3
   },
   "file_extension": ".py",
   "mimetype": "text/x-python",
   "name": "python",
   "nbconvert_exporter": "python",
   "pygments_lexer": "ipython3",
   "version": "3.6.9"
  }
 },
 "nbformat": 4,
 "nbformat_minor": 2
}
